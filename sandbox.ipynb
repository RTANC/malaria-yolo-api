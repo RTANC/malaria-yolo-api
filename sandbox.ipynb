{
 "cells": [
  {
   "cell_type": "code",
   "execution_count": 1,
   "metadata": {},
   "outputs": [
    {
     "name": "stderr",
     "output_type": "stream",
     "text": [
      "C:\\Users\\null\\AppData\\Roaming\\Python\\Python310\\site-packages\\tqdm\\auto.py:22: TqdmWarning: IProgress not found. Please update jupyter and ipywidgets. See https://ipywidgets.readthedocs.io/en/stable/user_install.html\n",
      "  from .autonotebook import tqdm as notebook_tqdm\n"
     ]
    }
   ],
   "source": [
    "from detect import detector\n",
    "import os\n",
    "from PIL import Image\n",
    "import imgaug as ia"
   ]
  },
  {
   "cell_type": "code",
   "execution_count": 2,
   "metadata": {},
   "outputs": [
    {
     "name": "stdout",
     "output_type": "stream",
     "text": [
      "\n",
      "Performing object detection:\n"
     ]
    }
   ],
   "source": [
    "input_image = Image.open(os.path.join(\"data\", \"samples\", \"pf-test-0000000039.jpg\"))\n",
    "\n",
    "boxes, img_with_box = detector(input_image)\n",
    "Image.fromarray(img_with_box).save(os.path.join(\"output\", \"pf-test-0000000039.jpg\"))\n",
    "# print(img_with_box.shape)\n",
    "# ia.imshow(img_with_box)"
   ]
  }
 ],
 "metadata": {
  "kernelspec": {
   "display_name": "Python ('pytorch-yolo')",
   "language": "python",
   "name": "python3"
  },
  "language_info": {
   "codemirror_mode": {
    "name": "ipython",
    "version": 3
   },
   "file_extension": ".py",
   "mimetype": "text/x-python",
   "name": "python",
   "nbconvert_exporter": "python",
   "pygments_lexer": "ipython3",
   "version": ""
  },
  "orig_nbformat": 4,
  "vscode": {
   "interpreter": {
    "hash": "25a19fbe0a9132dfb9279d48d161753c6352f8f9478c2e74383d340069b907c3"
   }
  }
 },
 "nbformat": 4,
 "nbformat_minor": 2
}
